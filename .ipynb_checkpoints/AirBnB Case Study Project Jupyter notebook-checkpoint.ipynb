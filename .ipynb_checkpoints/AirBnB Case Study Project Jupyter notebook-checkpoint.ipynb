{
 "cells": [
  {
   "cell_type": "markdown",
   "metadata": {},
   "source": [
    "# AirBnB NY Locations Data Case Study\n",
    "\n",
    "In this final project, you task will be to take the data provided and find evidance to answer the following questions.\n",
    "\n",
    "1. Which hosts are the busiest and why?\n",
    "2. How many neighborhood groups are available and which shows up the most?\n",
    "3. Are private rooms the most popular in manhattan?\n",
    "4. Which hosts are the busiest and based on their reviews?\n",
    "5. Which neighorhood group has the highest average price?\n",
    "6. Which neighborhood group has the highest total price?\n",
    "7. Which top 5 hosts have the highest total price?\n",
    "8. Who currently has no (zero) availability with a review count of 100 or more?\n",
    "9. What host has the highest total of prices and where are they located?\n",
    "10. When did Danielle from Queens last receive a review?\n",
    "\n",
    "You will be given **4 hours** to complete this assignment. \n",
    "**Be Advised** I will go dark for this intire assignment time period. That said, any questions that you would like to ask about the data, or the project **MUST** be asked before the time starts. Once the time has started, I can no longer give information.\n",
    "\n",
    "This is to similate what you will face when you are out in the wild. \n",
    "\n",
    "Happy Coding!"
   ]
  },
  {
   "cell_type": "code",
   "execution_count": 4,
   "metadata": {},
   "outputs": [],
   "source": [
    "import numpy as np\n",
    "import pandas as pd\n",
    "import matplotlib.pyplot as plt"
   ]
  },
  {
   "cell_type": "code",
   "execution_count": 5,
   "metadata": {},
   "outputs": [
    {
     "data": {
      "text/plain": [
       "Index(['id', 'name', 'host_id', 'host_name', 'neighbourhood_group',\n",
       "       'neighbourhood', 'latitude', 'longitude', 'room_type', 'price',\n",
       "       'minimum_nights', 'number_of_reviews', 'last_review',\n",
       "       'reviews_per_month', 'calculated_host_listings_count',\n",
       "       'availability_365'],\n",
       "      dtype='object')"
      ]
     },
     "execution_count": 5,
     "metadata": {},
     "output_type": "execute_result"
    }
   ],
   "source": [
    "air_bnb = pd.read_csv('files/AB_NYC_2019 - AB_NYC_2019.csv')\n",
    "air_bnb.columns"
   ]
  },
  {
   "cell_type": "code",
   "execution_count": 32,
   "metadata": {},
   "outputs": [
    {
     "name": "stdout",
     "output_type": "stream",
     "text": [
      "There are 5 neighbourhoods and they are ['Brooklyn' 'Manhattan' 'Queens' 'Staten Island' 'Bronx']\n",
      "\n",
      "\n",
      "neighbourhood_group\n",
      "Bronx             1091\n",
      "Brooklyn         20104\n",
      "Manhattan        21661\n",
      "Queens            5666\n",
      "Staten Island      373\n",
      "dtype: int64\n"
     ]
    }
   ],
   "source": [
    "# How many neighborhood groups are available and which shows up the most?\n",
    "print(f'There are {len(air_bnb.neighbourhood_group.unique())} neighbourhoods and they are {air_bnb.neighbourhood_group.unique()}')\n",
    "print('\\n')\n",
    "print(air_bnb.groupby(\"neighbourhood_group\", sort = True).size()) #.sort_values('neighbourhood_group', ascending= False)\n"
   ]
  },
  {
   "cell_type": "code",
   "execution_count": 34,
   "metadata": {},
   "outputs": [
    {
     "data": {
      "text/plain": [
       "room_type\n",
       "Entire home/apt    13199\n",
       "Private room        7982\n",
       "Shared room          480\n",
       "dtype: int64"
      ]
     },
     "execution_count": 34,
     "metadata": {},
     "output_type": "execute_result"
    }
   ],
   "source": [
    "# Are private rooms the most popular in manhattan?\n",
    "air_bnb[air_bnb['neighbourhood_group'] == 'Manhattan'].groupby('room_type').size()\n"
   ]
  },
  {
   "cell_type": "code",
   "execution_count": 16,
   "metadata": {},
   "outputs": [
    {
     "name": "stdout",
     "output_type": "stream",
     "text": [
      "           number_of_reviews  reviews_per_month\n",
      "host_name                                      \n",
      "Michael                11081             475.82\n",
      "David                   8103             508.61\n",
      "John                    7223             321.02\n",
      "Jason                   6522             196.15\n",
      "Alex                    6204             443.44\n",
      "              reviews_per_month  number_of_reviews\n",
      "host_name                                         \n",
      "David                    508.61               8103\n",
      "Michael                  475.82              11081\n",
      "Alex                     443.44               6204\n",
      "Sonder (NYC)             397.56               1281\n",
      "John                     321.02               7223\n"
     ]
    },
    {
     "name": "stderr",
     "output_type": "stream",
     "text": [
      "C:\\ProgramData\\Anaconda3\\lib\\site-packages\\ipykernel_launcher.py:2: FutureWarning: Indexing with multiple keys (implicitly converted to a tuple of keys) will be deprecated, use a list instead.\n",
      "  \n",
      "C:\\ProgramData\\Anaconda3\\lib\\site-packages\\ipykernel_launcher.py:4: FutureWarning: Indexing with multiple keys (implicitly converted to a tuple of keys) will be deprecated, use a list instead.\n",
      "  after removing the cwd from sys.path.\n"
     ]
    }
   ],
   "source": [
    "# Which hosts are the busiest and based on their reviews?\n",
    "most_reviews = air_bnb.groupby([\"host_name\"])['number_of_reviews','reviews_per_month'].sum().sort_values('number_of_reviews', ascending=False)\n",
    "print(most_reviews.head(5))\n",
    "reviews_per_month = air_bnb.groupby([\"host_name\"])['reviews_per_month','number_of_reviews'].sum().sort_values('reviews_per_month', ascending=False)\n",
    "print(reviews_per_month.head(5))"
   ]
  },
  {
   "cell_type": "code",
   "execution_count": 29,
   "metadata": {},
   "outputs": [
    {
     "name": "stdout",
     "output_type": "stream",
     "text": [
      "                          price\n",
      "neighbourhood_group            \n",
      "Manhattan            196.875814\n",
      "Brooklyn             124.383207\n",
      "Staten Island        114.812332\n",
      "Queens                99.517649\n",
      "Bronx                 87.496792\n"
     ]
    },
    {
     "name": "stderr",
     "output_type": "stream",
     "text": [
      "C:\\ProgramData\\Anaconda3\\lib\\site-packages\\ipykernel_launcher.py:2: FutureWarning: Indexing with multiple keys (implicitly converted to a tuple of keys) will be deprecated, use a list instead.\n",
      "  \n"
     ]
    }
   ],
   "source": [
    "#Which neighorhood group has the highest average price?\n",
    "print(air_bnb.groupby([\"neighbourhood_group\"])[\"neighbourhood_group\",'price'].mean().sort_values('price', ascending = False))"
   ]
  },
  {
   "cell_type": "code",
   "execution_count": 40,
   "metadata": {},
   "outputs": [
    {
     "name": "stdout",
     "output_type": "stream",
     "text": [
      "                       price\n",
      "neighbourhood_group         \n",
      "Manhattan            4264527\n",
      "Brooklyn             2500600\n",
      "Queens                563867\n",
      "Bronx                  95459\n",
      "Staten Island          42825\n"
     ]
    },
    {
     "name": "stderr",
     "output_type": "stream",
     "text": [
      "C:\\ProgramData\\Anaconda3\\lib\\site-packages\\ipykernel_launcher.py:2: FutureWarning: Indexing with multiple keys (implicitly converted to a tuple of keys) will be deprecated, use a list instead.\n",
      "  \n"
     ]
    }
   ],
   "source": [
    "# Which neighbor hood group has the highest total price?\n",
    "print(air_bnb.groupby('neighbourhood_group')['neighbourhood_group','price'].sum().sort_values('price', ascending = False))"
   ]
  },
  {
   "cell_type": "code",
   "execution_count": 30,
   "metadata": {},
   "outputs": [
    {
     "name": "stdout",
     "output_type": "stream",
     "text": [
      "              price\n",
      "host_name          \n",
      "Sonder (NYC)  82795\n",
      "Blueground    70331\n",
      "Michael       66895\n",
      "David         65844\n",
      "Alex          52563\n"
     ]
    },
    {
     "name": "stderr",
     "output_type": "stream",
     "text": [
      "C:\\ProgramData\\Anaconda3\\lib\\site-packages\\ipykernel_launcher.py:2: FutureWarning: Indexing with multiple keys (implicitly converted to a tuple of keys) will be deprecated, use a list instead.\n",
      "  \n"
     ]
    }
   ],
   "source": [
    "#Which top 5 hosts have the highest total price?\n",
    "high_price = air_bnb.groupby('host_name')['host_name','price'].sum().sort_values('price', ascending = False)\n",
    "print(high_price.head(5))"
   ]
  },
  {
   "cell_type": "code",
   "execution_count": 36,
   "metadata": {},
   "outputs": [
    {
     "data": {
      "text/html": [
       "<div>\n",
       "<style scoped>\n",
       "    .dataframe tbody tr th:only-of-type {\n",
       "        vertical-align: middle;\n",
       "    }\n",
       "\n",
       "    .dataframe tbody tr th {\n",
       "        vertical-align: top;\n",
       "    }\n",
       "\n",
       "    .dataframe thead th {\n",
       "        text-align: right;\n",
       "    }\n",
       "</style>\n",
       "<table border=\"1\" class=\"dataframe\">\n",
       "  <thead>\n",
       "    <tr style=\"text-align: right;\">\n",
       "      <th></th>\n",
       "      <th>id</th>\n",
       "      <th>name</th>\n",
       "      <th>host_id</th>\n",
       "      <th>host_name</th>\n",
       "      <th>neighbourhood_group</th>\n",
       "      <th>neighbourhood</th>\n",
       "      <th>latitude</th>\n",
       "      <th>longitude</th>\n",
       "      <th>room_type</th>\n",
       "      <th>price</th>\n",
       "      <th>minimum_nights</th>\n",
       "      <th>number_of_reviews</th>\n",
       "      <th>last_review</th>\n",
       "      <th>reviews_per_month</th>\n",
       "      <th>calculated_host_listings_count</th>\n",
       "      <th>availability_365</th>\n",
       "    </tr>\n",
       "  </thead>\n",
       "  <tbody>\n",
       "    <tr>\n",
       "      <th>8</th>\n",
       "      <td>5203</td>\n",
       "      <td>Cozy Clean Guest Room - Family Apt</td>\n",
       "      <td>7490</td>\n",
       "      <td>MaryEllen</td>\n",
       "      <td>Manhattan</td>\n",
       "      <td>Upper West Side</td>\n",
       "      <td>40.80178</td>\n",
       "      <td>-73.96723</td>\n",
       "      <td>Private room</td>\n",
       "      <td>79</td>\n",
       "      <td>2</td>\n",
       "      <td>118</td>\n",
       "      <td>2017-07-21</td>\n",
       "      <td>0.99</td>\n",
       "      <td>1</td>\n",
       "      <td>0</td>\n",
       "    </tr>\n",
       "    <tr>\n",
       "      <th>94</th>\n",
       "      <td>20913</td>\n",
       "      <td>Charming 1 bed GR8 WBurg LOCATION!</td>\n",
       "      <td>79402</td>\n",
       "      <td>Christiana</td>\n",
       "      <td>Brooklyn</td>\n",
       "      <td>Williamsburg</td>\n",
       "      <td>40.70984</td>\n",
       "      <td>-73.95775</td>\n",
       "      <td>Entire home/apt</td>\n",
       "      <td>100</td>\n",
       "      <td>5</td>\n",
       "      <td>168</td>\n",
       "      <td>2018-07-22</td>\n",
       "      <td>1.57</td>\n",
       "      <td>1</td>\n",
       "      <td>0</td>\n",
       "    </tr>\n",
       "    <tr>\n",
       "      <th>132</th>\n",
       "      <td>30031</td>\n",
       "      <td>NYC artists’ loft with roof deck</td>\n",
       "      <td>129352</td>\n",
       "      <td>Sol</td>\n",
       "      <td>Brooklyn</td>\n",
       "      <td>Greenpoint</td>\n",
       "      <td>40.73494</td>\n",
       "      <td>-73.95030</td>\n",
       "      <td>Private room</td>\n",
       "      <td>50</td>\n",
       "      <td>3</td>\n",
       "      <td>193</td>\n",
       "      <td>2019-05-20</td>\n",
       "      <td>1.86</td>\n",
       "      <td>1</td>\n",
       "      <td>0</td>\n",
       "    </tr>\n",
       "    <tr>\n",
       "      <th>174</th>\n",
       "      <td>44221</td>\n",
       "      <td>Financial District Luxury Loft</td>\n",
       "      <td>193722</td>\n",
       "      <td>Coral</td>\n",
       "      <td>Manhattan</td>\n",
       "      <td>Financial District</td>\n",
       "      <td>40.70666</td>\n",
       "      <td>-74.01374</td>\n",
       "      <td>Entire home/apt</td>\n",
       "      <td>196</td>\n",
       "      <td>3</td>\n",
       "      <td>114</td>\n",
       "      <td>2019-06-20</td>\n",
       "      <td>1.06</td>\n",
       "      <td>1</td>\n",
       "      <td>0</td>\n",
       "    </tr>\n",
       "    <tr>\n",
       "      <th>180</th>\n",
       "      <td>45556</td>\n",
       "      <td>Fort Greene, Brooklyn: Center Bedroom</td>\n",
       "      <td>67778</td>\n",
       "      <td>Doug</td>\n",
       "      <td>Brooklyn</td>\n",
       "      <td>Fort Greene</td>\n",
       "      <td>40.68863</td>\n",
       "      <td>-73.97691</td>\n",
       "      <td>Private room</td>\n",
       "      <td>65</td>\n",
       "      <td>2</td>\n",
       "      <td>206</td>\n",
       "      <td>2019-06-30</td>\n",
       "      <td>1.92</td>\n",
       "      <td>2</td>\n",
       "      <td>0</td>\n",
       "    </tr>\n",
       "    <tr>\n",
       "      <th>...</th>\n",
       "      <td>...</td>\n",
       "      <td>...</td>\n",
       "      <td>...</td>\n",
       "      <td>...</td>\n",
       "      <td>...</td>\n",
       "      <td>...</td>\n",
       "      <td>...</td>\n",
       "      <td>...</td>\n",
       "      <td>...</td>\n",
       "      <td>...</td>\n",
       "      <td>...</td>\n",
       "      <td>...</td>\n",
       "      <td>...</td>\n",
       "      <td>...</td>\n",
       "      <td>...</td>\n",
       "      <td>...</td>\n",
       "    </tr>\n",
       "    <tr>\n",
       "      <th>29581</th>\n",
       "      <td>22705516</td>\n",
       "      <td>The Quietest Block in Manhattan :)</td>\n",
       "      <td>127740507</td>\n",
       "      <td>Kathleen</td>\n",
       "      <td>Manhattan</td>\n",
       "      <td>Harlem</td>\n",
       "      <td>40.83102</td>\n",
       "      <td>-73.94181</td>\n",
       "      <td>Private room</td>\n",
       "      <td>65</td>\n",
       "      <td>2</td>\n",
       "      <td>103</td>\n",
       "      <td>2019-07-07</td>\n",
       "      <td>5.89</td>\n",
       "      <td>2</td>\n",
       "      <td>0</td>\n",
       "    </tr>\n",
       "    <tr>\n",
       "      <th>30461</th>\n",
       "      <td>23574142</td>\n",
       "      <td>queens get away!!</td>\n",
       "      <td>176185168</td>\n",
       "      <td>Janet</td>\n",
       "      <td>Queens</td>\n",
       "      <td>Laurelton</td>\n",
       "      <td>40.68209</td>\n",
       "      <td>-73.73662</td>\n",
       "      <td>Private room</td>\n",
       "      <td>65</td>\n",
       "      <td>1</td>\n",
       "      <td>119</td>\n",
       "      <td>2018-12-24</td>\n",
       "      <td>7.79</td>\n",
       "      <td>1</td>\n",
       "      <td>0</td>\n",
       "    </tr>\n",
       "    <tr>\n",
       "      <th>31250</th>\n",
       "      <td>24267706</td>\n",
       "      <td>entire sunshine of the spotless mind room</td>\n",
       "      <td>21074914</td>\n",
       "      <td>Albert</td>\n",
       "      <td>Brooklyn</td>\n",
       "      <td>Bedford-Stuyvesant</td>\n",
       "      <td>40.68234</td>\n",
       "      <td>-73.91318</td>\n",
       "      <td>Private room</td>\n",
       "      <td>49</td>\n",
       "      <td>1</td>\n",
       "      <td>102</td>\n",
       "      <td>2019-07-05</td>\n",
       "      <td>6.73</td>\n",
       "      <td>3</td>\n",
       "      <td>0</td>\n",
       "    </tr>\n",
       "    <tr>\n",
       "      <th>32670</th>\n",
       "      <td>25719044</td>\n",
       "      <td>COZY Room for Female Guests</td>\n",
       "      <td>40119874</td>\n",
       "      <td>Stephany</td>\n",
       "      <td>Brooklyn</td>\n",
       "      <td>Prospect-Lefferts Gardens</td>\n",
       "      <td>40.66242</td>\n",
       "      <td>-73.94417</td>\n",
       "      <td>Private room</td>\n",
       "      <td>48</td>\n",
       "      <td>1</td>\n",
       "      <td>131</td>\n",
       "      <td>2019-05-31</td>\n",
       "      <td>9.97</td>\n",
       "      <td>2</td>\n",
       "      <td>0</td>\n",
       "    </tr>\n",
       "    <tr>\n",
       "      <th>35014</th>\n",
       "      <td>27759146</td>\n",
       "      <td>Cozy corner near Empire State Building</td>\n",
       "      <td>209549523</td>\n",
       "      <td>Mariluz</td>\n",
       "      <td>Manhattan</td>\n",
       "      <td>Midtown</td>\n",
       "      <td>40.74858</td>\n",
       "      <td>-73.98341</td>\n",
       "      <td>Shared room</td>\n",
       "      <td>62</td>\n",
       "      <td>1</td>\n",
       "      <td>112</td>\n",
       "      <td>2019-06-13</td>\n",
       "      <td>10.77</td>\n",
       "      <td>3</td>\n",
       "      <td>0</td>\n",
       "    </tr>\n",
       "  </tbody>\n",
       "</table>\n",
       "<p>162 rows × 16 columns</p>\n",
       "</div>"
      ],
      "text/plain": [
       "             id                                       name    host_id  \\\n",
       "8          5203         Cozy Clean Guest Room - Family Apt       7490   \n",
       "94        20913         Charming 1 bed GR8 WBurg LOCATION!      79402   \n",
       "132       30031           NYC artists’ loft with roof deck     129352   \n",
       "174       44221             Financial District Luxury Loft     193722   \n",
       "180       45556      Fort Greene, Brooklyn: Center Bedroom      67778   \n",
       "...         ...                                        ...        ...   \n",
       "29581  22705516         The Quietest Block in Manhattan :)  127740507   \n",
       "30461  23574142                          queens get away!!  176185168   \n",
       "31250  24267706  entire sunshine of the spotless mind room   21074914   \n",
       "32670  25719044                COZY Room for Female Guests   40119874   \n",
       "35014  27759146     Cozy corner near Empire State Building  209549523   \n",
       "\n",
       "        host_name neighbourhood_group              neighbourhood  latitude  \\\n",
       "8       MaryEllen           Manhattan            Upper West Side  40.80178   \n",
       "94     Christiana            Brooklyn               Williamsburg  40.70984   \n",
       "132           Sol            Brooklyn                 Greenpoint  40.73494   \n",
       "174         Coral           Manhattan         Financial District  40.70666   \n",
       "180          Doug            Brooklyn                Fort Greene  40.68863   \n",
       "...           ...                 ...                        ...       ...   \n",
       "29581    Kathleen           Manhattan                     Harlem  40.83102   \n",
       "30461       Janet              Queens                  Laurelton  40.68209   \n",
       "31250      Albert            Brooklyn         Bedford-Stuyvesant  40.68234   \n",
       "32670    Stephany            Brooklyn  Prospect-Lefferts Gardens  40.66242   \n",
       "35014     Mariluz           Manhattan                    Midtown  40.74858   \n",
       "\n",
       "       longitude        room_type  price  minimum_nights  number_of_reviews  \\\n",
       "8      -73.96723     Private room     79               2                118   \n",
       "94     -73.95775  Entire home/apt    100               5                168   \n",
       "132    -73.95030     Private room     50               3                193   \n",
       "174    -74.01374  Entire home/apt    196               3                114   \n",
       "180    -73.97691     Private room     65               2                206   \n",
       "...          ...              ...    ...             ...                ...   \n",
       "29581  -73.94181     Private room     65               2                103   \n",
       "30461  -73.73662     Private room     65               1                119   \n",
       "31250  -73.91318     Private room     49               1                102   \n",
       "32670  -73.94417     Private room     48               1                131   \n",
       "35014  -73.98341      Shared room     62               1                112   \n",
       "\n",
       "      last_review  reviews_per_month  calculated_host_listings_count  \\\n",
       "8      2017-07-21               0.99                               1   \n",
       "94     2018-07-22               1.57                               1   \n",
       "132    2019-05-20               1.86                               1   \n",
       "174    2019-06-20               1.06                               1   \n",
       "180    2019-06-30               1.92                               2   \n",
       "...           ...                ...                             ...   \n",
       "29581  2019-07-07               5.89                               2   \n",
       "30461  2018-12-24               7.79                               1   \n",
       "31250  2019-07-05               6.73                               3   \n",
       "32670  2019-05-31               9.97                               2   \n",
       "35014  2019-06-13              10.77                               3   \n",
       "\n",
       "       availability_365  \n",
       "8                     0  \n",
       "94                    0  \n",
       "132                   0  \n",
       "174                   0  \n",
       "180                   0  \n",
       "...                 ...  \n",
       "29581                 0  \n",
       "30461                 0  \n",
       "31250                 0  \n",
       "32670                 0  \n",
       "35014                 0  \n",
       "\n",
       "[162 rows x 16 columns]"
      ]
     },
     "execution_count": 36,
     "metadata": {},
     "output_type": "execute_result"
    }
   ],
   "source": [
    "# Who currently has no (zero) availability with a review count of 100 or more?\n",
    "zero_hundred = air_bnb[(air_bnb['availability_365'] == 0) & (air_bnb['number_of_reviews'] >= 100)]\n",
    "zero_hundred"
   ]
  },
  {
   "cell_type": "code",
   "execution_count": 55,
   "metadata": {},
   "outputs": [
    {
     "name": "stdout",
     "output_type": "stream",
     "text": [
      "Index(['id', 'name', 'host_id', 'host_name', 'neighbourhood_group',\n",
      "       'neighbourhood', 'latitude', 'longitude', 'room_type', 'price',\n",
      "       'minimum_nights', 'number_of_reviews', 'last_review',\n",
      "       'reviews_per_month', 'calculated_host_listings_count',\n",
      "       'availability_365'],\n",
      "      dtype='object')\n"
     ]
    },
    {
     "data": {
      "text/html": [
       "<div>\n",
       "<style scoped>\n",
       "    .dataframe tbody tr th:only-of-type {\n",
       "        vertical-align: middle;\n",
       "    }\n",
       "\n",
       "    .dataframe tbody tr th {\n",
       "        vertical-align: top;\n",
       "    }\n",
       "\n",
       "    .dataframe thead th {\n",
       "        text-align: right;\n",
       "    }\n",
       "</style>\n",
       "<table border=\"1\" class=\"dataframe\">\n",
       "  <thead>\n",
       "    <tr style=\"text-align: right;\">\n",
       "      <th></th>\n",
       "      <th></th>\n",
       "      <th>price</th>\n",
       "    </tr>\n",
       "    <tr>\n",
       "      <th>host_name</th>\n",
       "      <th>neighbourhood</th>\n",
       "      <th></th>\n",
       "    </tr>\n",
       "  </thead>\n",
       "  <tbody>\n",
       "    <tr>\n",
       "      <th>Sonder (NYC)</th>\n",
       "      <th>Financial District</th>\n",
       "      <td>57738</td>\n",
       "    </tr>\n",
       "  </tbody>\n",
       "</table>\n",
       "</div>"
      ],
      "text/plain": [
       "                                 price\n",
       "host_name    neighbourhood            \n",
       "Sonder (NYC) Financial District  57738"
      ]
     },
     "execution_count": 55,
     "metadata": {},
     "output_type": "execute_result"
    }
   ],
   "source": [
    "# What host has the highest total of prices and where are they located?\n",
    "print(air_bnb.columns)\n",
    "highest_host = air_bnb.groupby(['host_name', 'neighbourhood'])[['price']].sum().sort_values('price', ascending = False)\n",
    "highest_host.head(1)"
   ]
  },
  {
   "cell_type": "code",
   "execution_count": 63,
   "metadata": {},
   "outputs": [
    {
     "data": {
      "text/plain": [
       "7086     2019-07-03\n",
       "16349           NaN\n",
       "20403    2019-07-06\n",
       "21517    2019-07-07\n",
       "22068    2019-07-06\n",
       "22469    2019-07-08\n",
       "27021    2018-01-02\n",
       "33861    2019-06-20\n",
       "Name: last_review, dtype: object"
      ]
     },
     "execution_count": 63,
     "metadata": {},
     "output_type": "execute_result"
    }
   ],
   "source": [
    "# When did Danielle from Queens last receive a review?\n",
    "danielle = air_bnb[(air_bnb['host_name']=='Danielle') & (air_bnb['neighbourhood_group']== 'Queens')]['last_review']\n",
    "danielle\n",
    "#The most recent review is: 2019-7-8"
   ]
  },
  {
   "cell_type": "markdown",
   "metadata": {},
   "source": [
    "## Further Questions\n",
    "\n",
    "1. Which host has the most listings?"
   ]
  },
  {
   "cell_type": "code",
   "execution_count": null,
   "metadata": {},
   "outputs": [],
   "source": []
  },
  {
   "cell_type": "markdown",
   "metadata": {},
   "source": [
    "2. How many listings have completely open availability?"
   ]
  },
  {
   "cell_type": "code",
   "execution_count": null,
   "metadata": {},
   "outputs": [],
   "source": []
  },
  {
   "cell_type": "markdown",
   "metadata": {},
   "source": [
    "3. What room_types have the highest review numbers?"
   ]
  },
  {
   "cell_type": "code",
   "execution_count": null,
   "metadata": {},
   "outputs": [],
   "source": []
  },
  {
   "cell_type": "markdown",
   "metadata": {},
   "source": [
    "# Final Conclusion\n",
    "\n",
    "In this cell, write your final conclusion for each of the questions asked.\n",
    "\n",
    "Also, if you uncovered some more details that were not asked above, please discribe them here.\n",
    "\n",
    "-- Add your conclusion --"
   ]
  }
 ],
 "metadata": {
  "kernelspec": {
   "display_name": "Python 3",
   "language": "python",
   "name": "python3"
  },
  "language_info": {
   "codemirror_mode": {
    "name": "ipython",
    "version": 3
   },
   "file_extension": ".py",
   "mimetype": "text/x-python",
   "name": "python",
   "nbconvert_exporter": "python",
   "pygments_lexer": "ipython3",
   "version": "3.7.6"
  }
 },
 "nbformat": 4,
 "nbformat_minor": 2
}
